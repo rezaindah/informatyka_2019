{
 "cells": [
  {
   "cell_type": "code",
   "execution_count": 17,
   "metadata": {},
   "outputs": [
    {
     "name": "stdout",
     "output_type": "stream",
     "text": [
      "Input number or press 'q' to quit: 3\n",
      "Input number or press 'q' to quit: 2\n",
      "Input number or press 'q' to quit: Q\n"
     ]
    },
    {
     "ename": "ValueError",
     "evalue": "invalid literal for int() with base 10: 'Q'",
     "output_type": "error",
     "traceback": [
      "\u001b[1;31m---------------------------------------------------------------------------\u001b[0m",
      "\u001b[1;31mValueError\u001b[0m                                Traceback (most recent call last)",
      "\u001b[1;32m<ipython-input-17-81e87e97dfec>\u001b[0m in \u001b[0;36m<module>\u001b[1;34m()\u001b[0m\n\u001b[0;32m     11\u001b[0m     \u001b[1;31m# Add the new name to our list.\u001b[0m\u001b[1;33m\u001b[0m\u001b[1;33m\u001b[0m\u001b[0m\n\u001b[0;32m     12\u001b[0m     \u001b[1;32mif\u001b[0m \u001b[0mnew_angka\u001b[0m \u001b[1;33m!=\u001b[0m \u001b[1;34m'q'\u001b[0m\u001b[1;33m:\u001b[0m\u001b[1;33m\u001b[0m\u001b[0m\n\u001b[1;32m---> 13\u001b[1;33m         \u001b[0mangka\u001b[0m\u001b[1;33m.\u001b[0m\u001b[0mappend\u001b[0m\u001b[1;33m(\u001b[0m\u001b[0mint\u001b[0m\u001b[1;33m(\u001b[0m\u001b[0mnew_angka\u001b[0m\u001b[1;33m)\u001b[0m\u001b[1;33m)\u001b[0m\u001b[1;33m\u001b[0m\u001b[0m\n\u001b[0m\u001b[0;32m     14\u001b[0m \u001b[1;33m\u001b[0m\u001b[0m\n\u001b[0;32m     15\u001b[0m \u001b[1;31m# Show that the name has been added to the list.\u001b[0m\u001b[1;33m\u001b[0m\u001b[1;33m\u001b[0m\u001b[0m\n",
      "\u001b[1;31mValueError\u001b[0m: invalid literal for int() with base 10: 'Q'"
     ]
    }
   ],
   "source": [
    "angka = []\n",
    "\n",
    "# Set new_angka to something other than 'quit'.\n",
    "new_angka = 0\n",
    "\n",
    "# Start a loop that will run until the user enters 'quit'.\n",
    "while new_angka != 'q':\n",
    "    # Ask the user for a name.\n",
    "    new_angka = raw_input(\"Input number or press 'q' to quit: \")\n",
    "\n",
    "    # Add the new name to our list.\n",
    "    if new_angka != 'q':\n",
    "        angka.append(int(new_angka))\n",
    "\n",
    "# Show that the name has been added to the list.\n",
    "print(angka)\n",
    "aver= sum(angka) / float(len(angka))\n",
    "print(\"Average is : %f\" % aver)\n",
    "hasil=1\n",
    "for x in angka:\n",
    "    hasil *= x\n",
    "print(\"Product is : %f\" %hasil)"
   ]
  },
  {
   "cell_type": "code",
   "execution_count": 18,
   "metadata": {},
   "outputs": [
    {
     "name": "stdout",
     "output_type": "stream",
     "text": [
      "Input number or press 'q' to quit: 3\n",
      "Input number or press 'q' to quit: 2\n",
      "Input number or press 'q' to quit: 1\n",
      "Input number or press 'q' to quit: q\n",
      "[3, 2, 1]\n",
      "Average is : 2.000000\n",
      "Product is : 6.000000\n"
     ]
    }
   ],
   "source": [
    "numb = []\n",
    "\n",
    "new_numb = 0\n",
    "\n",
    "while new_numb != 'q':\n",
    "\n",
    "    new_numb = raw_input(\"Input number or press 'q' to quit: \")\n",
    "\n",
    "    if new_numb != 'q':\n",
    "        numb.append(int(new_numb))\n",
    "\n",
    "print(numb)\n",
    "aver= sum(numb) / float(len(numb))\n",
    "print(\"Average is : %f\" % aver)\n",
    "result=1\n",
    "for x in numb:\n",
    "    result *= x\n",
    "print(\"Product is : %f\" %result)"
   ]
  }
 ],
 "metadata": {
  "kernelspec": {
   "display_name": "Python 2",
   "language": "python",
   "name": "python2"
  },
  "language_info": {
   "codemirror_mode": {
    "name": "ipython",
    "version": 2
   },
   "file_extension": ".py",
   "mimetype": "text/x-python",
   "name": "python",
   "nbconvert_exporter": "python",
   "pygments_lexer": "ipython2",
   "version": "2.7.15"
  }
 },
 "nbformat": 4,
 "nbformat_minor": 2
}
