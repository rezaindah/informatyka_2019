{
 "cells": [
  {
   "cell_type": "code",
   "execution_count": 1,
   "metadata": {},
   "outputs": [],
   "source": [
    "#Question 4\n",
    "#Write a python function to find the min of three numbers"
   ]
  },
  {
   "cell_type": "code",
   "execution_count": 2,
   "metadata": {},
   "outputs": [],
   "source": [
    "def minimal(list1=[]):\n",
    "    print(min(list1))"
   ]
  },
  {
   "cell_type": "code",
   "execution_count": 3,
   "metadata": {},
   "outputs": [
    {
     "name": "stdout",
     "output_type": "stream",
     "text": [
      "Input number or press 'q' to quit: 4\n",
      "Input number or press 'q' to quit: 7\n",
      "Input number or press 'q' to quit: 5\n",
      "Input number or press 'q' to quit: 3\n",
      "Input number or press 'q' to quit: q\n",
      "3\n"
     ]
    }
   ],
   "source": [
    "numb = []\n",
    "\n",
    "new_numb = 0\n",
    "\n",
    "while new_numb != 'q':\n",
    "\n",
    "    new_numb = raw_input(\"Input number or press 'q' to quit: \")\n",
    "\n",
    "    if new_numb != 'q':\n",
    "        numb.append(int(new_numb))\n",
    "minimal(numb)"
   ]
  },
  {
   "cell_type": "code",
   "execution_count": 4,
   "metadata": {},
   "outputs": [],
   "source": [
    "#Question 5\n",
    "#Python function to reverse the string\n",
    "\n",
    "def reversal(a):\n",
    "    return a[::-1]"
   ]
  },
  {
   "cell_type": "code",
   "execution_count": 5,
   "metadata": {},
   "outputs": [
    {
     "name": "stdout",
     "output_type": "stream",
     "text": [
      "Enter text: lee sang yoon\n",
      "nooy gnas eel\n"
     ]
    }
   ],
   "source": [
    "teks = raw_input(\"Enter text: \")\n",
    "\n",
    "print(reversal(teks))"
   ]
  },
  {
   "cell_type": "code",
   "execution_count": 6,
   "metadata": {},
   "outputs": [],
   "source": [
    "#Question 6\n",
    "#Check if input argument is in a specific range\n",
    "def checking(a=0):\n",
    "    if a in range(0,4):\n",
    "        print(\"exist\")\n",
    "    else:\n",
    "        print(\"not exist\")"
   ]
  },
  {
   "cell_type": "code",
   "execution_count": 7,
   "metadata": {},
   "outputs": [
    {
     "name": "stdout",
     "output_type": "stream",
     "text": [
      "Input number: 2\n",
      "exist\n"
     ]
    }
   ],
   "source": [
    "angka = int(raw_input(\"Input number: \"))\n",
    "checking(angka)"
   ]
  },
  {
   "cell_type": "code",
   "execution_count": 8,
   "metadata": {},
   "outputs": [],
   "source": [
    "#Question 4\n",
    "def fizz_buzz(b=0):\n",
    "    if b%3==0 and b%5==0:\n",
    "        print(\"FizzBuzz\")\n",
    "    elif b%3==0:\n",
    "        print(\"Fizz\")\n",
    "    elif b%5==0:\n",
    "        print(\"Buzz\")\n",
    "    else:\n",
    "        print(b)"
   ]
  },
  {
   "cell_type": "code",
   "execution_count": 9,
   "metadata": {},
   "outputs": [
    {
     "name": "stdout",
     "output_type": "stream",
     "text": [
      "Input number: 46\n",
      "46\n"
     ]
    }
   ],
   "source": [
    "angka_baru = int(raw_input(\"Input number: \"))\n",
    "fizz_buzz(angka_baru)"
   ]
  },
  {
   "cell_type": "code",
   "execution_count": 10,
   "metadata": {},
   "outputs": [],
   "source": [
    "#Question 5\n",
    "def unik(list2):\n",
    "    listunik=[]\n",
    "    for x in list2: \n",
    "        if x not in listunik: \n",
    "            listunik.append(x) \n",
    "    for x in listunik: \n",
    "        print(x)"
   ]
  },
  {
   "cell_type": "code",
   "execution_count": 27,
   "metadata": {},
   "outputs": [
    {
     "name": "stdout",
     "output_type": "stream",
     "text": [
      "Enter a list element separated by space 5 4 8 4 5 6 9 7 4\n",
      "the unique values from 1st list is\n",
      "5\n",
      " \n",
      "4\n",
      "8\n",
      "6\n",
      "9\n",
      "7\n"
     ]
    }
   ],
   "source": [
    "listbaru = raw_input(\"Enter a list element separated by space \")\n",
    "#list  = listbaru.split()\n",
    "#listbaru = [10, 20, 10, 30, 40, 40] \n",
    "print(\"the unique values from 1st list is\") \n",
    "unik(listbaru) "
   ]
  },
  {
   "cell_type": "code",
   "execution_count": null,
   "metadata": {},
   "outputs": [],
   "source": [
    "#Question 9\n",
    "def kombinasi(t1,t2):\n",
    "    if t1 == \"\":\n",
    "        print(\"Second \"+t2)\n",
    "    elif t2 == \"\":\n",
    "        print(t1+\" second\")\n",
    "    else:\n",
    "        print(t1+\" \"+t2)"
   ]
  },
  {
   "cell_type": "code",
   "execution_count": 20,
   "metadata": {},
   "outputs": [
    {
     "name": "stdout",
     "output_type": "stream",
     "text": [
      "Input string 1: \n",
      "input string 2: asdf\n",
      "Second asdf\n"
     ]
    }
   ],
   "source": [
    "teks1 = raw_input(\"Input string 1: \")\n",
    "teks2 = raw_input(\"input string 2: \")\n",
    "kombinasi(teks1,teks2)"
   ]
  },
  {
   "cell_type": "code",
   "execution_count": 43,
   "metadata": {},
   "outputs": [],
   "source": [
    "#Question 10\n",
    "def suma(a,b,c,d,e,f):\n",
    "    print(a+b+c+d+e+f)\n"
   ]
  },
  {
   "cell_type": "code",
   "execution_count": 44,
   "metadata": {},
   "outputs": [
    {
     "name": "stdout",
     "output_type": "stream",
     "text": [
      "21\n"
     ]
    }
   ],
   "source": [
    "#listbaru = raw_input(\"Enter a list element separated by space \")\n",
    "suma(1,2,3,4,5,6)"
   ]
  },
  {
   "cell_type": "code",
   "execution_count": 46,
   "metadata": {},
   "outputs": [
    {
     "name": "stdout",
     "output_type": "stream",
     "text": [
      "8\n",
      "30\n"
     ]
    }
   ],
   "source": [
    "#Question 11\n",
    "\n",
    "sum = lambda a,b,c: (a*b*c)\n",
    "\n",
    "print (sum(1,2,4))\n",
    "print (sum(3,5,2))\n"
   ]
  },
  {
   "cell_type": "code",
   "execution_count": null,
   "metadata": {},
   "outputs": [],
   "source": []
  }
 ],
 "metadata": {
  "kernelspec": {
   "display_name": "Python 2",
   "language": "python",
   "name": "python2"
  },
  "language_info": {
   "codemirror_mode": {
    "name": "ipython",
    "version": 2
   },
   "file_extension": ".py",
   "mimetype": "text/x-python",
   "name": "python",
   "nbconvert_exporter": "python",
   "pygments_lexer": "ipython2",
   "version": "2.7.15"
  }
 },
 "nbformat": 4,
 "nbformat_minor": 2
}
