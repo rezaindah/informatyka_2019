{
 "cells": [
  {
   "cell_type": "code",
   "execution_count": 1,
   "metadata": {},
   "outputs": [],
   "source": [
    "#Question 4\n",
    "#Write a python function to find the min of three numbers"
   ]
  },
  {
   "cell_type": "code",
   "execution_count": 14,
   "metadata": {},
   "outputs": [],
   "source": [
    "def minimal(list1=[]):\n",
    "    print(min(list1))"
   ]
  },
  {
   "cell_type": "code",
   "execution_count": null,
   "metadata": {},
   "outputs": [],
   "source": [
    "numb = []\n",
    "\n",
    "new_numb = 0\n",
    "\n",
    "while new_numb != 'q':\n",
    "\n",
    "    new_numb = input(\"Input number or press 'q' to quit: \")\n",
    "\n",
    "    if new_numb != 'q':\n",
    "        numb.append(int(new_numb))\n",
    "minimal(numb)"
   ]
  },
  {
   "cell_type": "code",
   "execution_count": 24,
   "metadata": {},
   "outputs": [],
   "source": [
    "#Question 5\n",
    "#Python function to reverse the string\n",
    "\n",
    "def reversal(a):\n",
    "    return a[::-1]"
   ]
  },
  {
   "cell_type": "code",
   "execution_count": 27,
   "metadata": {},
   "outputs": [
    {
     "name": "stdout",
     "output_type": "stream",
     "text": [
      "Enter text: reversing teks\n",
      "sket gnisrever\n"
     ]
    }
   ],
   "source": [
    "teks = input(\"Enter text: \")\n",
    "\n",
    "print(reversal(teks))"
   ]
  },
  {
   "cell_type": "code",
   "execution_count": 48,
   "metadata": {},
   "outputs": [],
   "source": [
    "#Question 6\n",
    "#Check if input argument is in a specific range\n",
    "def checking(a=0):\n",
    "    if a in range(0,4):\n",
    "        print(\"exist\")\n",
    "    else:\n",
    "        print(\"not exist\")"
   ]
  },
  {
   "cell_type": "code",
   "execution_count": 56,
   "metadata": {},
   "outputs": [
    {
     "name": "stdout",
     "output_type": "stream",
     "text": [
      "Input number: -1\n",
      "not exist\n"
     ]
    }
   ],
   "source": [
    "angka = int(input(\"Input number: \"))\n",
    "checking(angka)"
   ]
  },
  {
   "cell_type": "code",
   "execution_count": 62,
   "metadata": {},
   "outputs": [],
   "source": [
    "#Question 4\n",
    "def fizz_buzz(b=0):\n",
    "    if b%3==0 and b%5==0:\n",
    "        print(\"FizzBuzz\")\n",
    "    elif b%3==0:\n",
    "        print(\"Fizz\")\n",
    "    elif b%5==0:\n",
    "        print(\"Buzz\")\n",
    "    else:\n",
    "        print(b)"
   ]
  },
  {
   "cell_type": "code",
   "execution_count": 66,
   "metadata": {},
   "outputs": [
    {
     "name": "stdout",
     "output_type": "stream",
     "text": [
      "Input number: 4\n",
      "4\n"
     ]
    }
   ],
   "source": [
    "angka_baru = int(input(\"Input number: \"))\n",
    "fizz_buzz(angka_baru)"
   ]
  },
  {
   "cell_type": "code",
   "execution_count": null,
   "metadata": {},
   "outputs": [],
   "source": [
    "#Question 5\n",
    "def unik(list2):\n",
    "    listunik=[]\n",
    "    for x in list2: \n",
    "        if x not in listunik: \n",
    "            unique_list.append(x) \n",
    "    for x in listunik: \n",
    "        print x"
   ]
  },
  {
   "cell_type": "code",
   "execution_count": null,
   "metadata": {},
   "outputs": [],
   "source": [
    "#Question 6\n"
   ]
  },
  {
   "cell_type": "code",
   "execution_count": null,
   "metadata": {},
   "outputs": [],
   "source": []
  }
 ],
 "metadata": {
  "kernelspec": {
   "display_name": "Python 3",
   "language": "python",
   "name": "python3"
  },
  "language_info": {
   "codemirror_mode": {
    "name": "ipython",
    "version": 3
   },
   "file_extension": ".py",
   "mimetype": "text/x-python",
   "name": "python",
   "nbconvert_exporter": "python",
   "pygments_lexer": "ipython3",
   "version": "3.7.1"
  }
 },
 "nbformat": 4,
 "nbformat_minor": 2
}
