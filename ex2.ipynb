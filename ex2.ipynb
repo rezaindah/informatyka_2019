{
 "cells": [
  {
   "cell_type": "code",
   "execution_count": 6,
   "metadata": {},
   "outputs": [
    {
     "name": "stdout",
     "output_type": "stream",
     "text": [
      "you ordered a thick-crust pizza. With the following toppings: \n",
      "\tmushrooms\n",
      "\textra cheese\n"
     ]
    }
   ],
   "source": [
    "pizza={'crust':'thick','toppings':['mushrooms','extra cheese']}\n",
    "print(\"you ordered a \" +pizza['crust']+\"-crust pizza. With the following toppings: \")\n",
    "\n",
    "for topping in pizza['toppings']:\n",
    "    print(\"\\t\"+topping)"
   ]
  },
  {
   "cell_type": "code",
   "execution_count": 11,
   "metadata": {},
   "outputs": [
    {
     "name": "stdout",
     "output_type": "stream",
     "text": [
      "\n",
      "John's favorite languages are:\n",
      "\tPython\n",
      "\tRuby\n",
      "\n",
      "Wania's favorite languages are:\n",
      "\tC\n",
      "\n",
      "Tadeusz's favorite languages are:\n",
      "\tHaskell\n",
      "\tLogo\n"
     ]
    }
   ],
   "source": [
    "fav_lang={'john':['python','ruby'], 'wania':['c'], 'tadeusz':['haskell','logo']}\n",
    "\n",
    "for name, lang in fav_lang.items():\n",
    "    print(\"\\n\" + name.title() + \"'s favorite languages are:\")\n",
    "    for langs in lang:\n",
    "        print('\\t' + langs.title())"
   ]
  },
  {
   "cell_type": "code",
   "execution_count": 13,
   "metadata": {},
   "outputs": [],
   "source": [
    "users={\n",
    "    'aeinstein': {\n",
    "        'first':'albert',\n",
    "        'last':'einstein',\n",
    "        'location':'princeton'\n",
    "    },\n",
    "    'mcurie':{\n",
    "        'first':'maria',\n",
    "        'last':'sklodowska',\n",
    "        'location':'warsaw'\n",
    "    }\n",
    "}"
   ]
  },
  {
   "cell_type": "code",
   "execution_count": 14,
   "metadata": {
    "scrolled": true
   },
   "outputs": [
    {
     "name": "stdout",
     "output_type": "stream",
     "text": [
      "{'aeinstein': {'first': 'albert', 'last': 'einstein', 'location': 'princeton'}, 'mcurie': {'first': 'maria', 'last': 'sklodowska', 'location': 'warsaw'}}\n"
     ]
    }
   ],
   "source": [
    "print(users)"
   ]
  },
  {
   "cell_type": "code",
   "execution_count": 17,
   "metadata": {},
   "outputs": [
    {
     "name": "stdout",
     "output_type": "stream",
     "text": [
      "\n",
      "Username: aeinstein\n",
      "\tFull name: Albert Einstein\n",
      "\tLocation: Princeton\n",
      "\n",
      "Username: mcurie\n",
      "\tFull name: Maria Sklodowska\n",
      "\tLocation: Warsaw\n"
     ]
    }
   ],
   "source": [
    "for username, user_info in users.items():\n",
    "    print('\\nUsername: ' + username)\n",
    "    full_name= user_info['first'] + ' ' + user_info['last']\n",
    "    location=user_info['location']\n",
    "    print('\\tFull name: ' +full_name.title())\n",
    "    print('\\tLocation: ' +location.title())"
   ]
  }
 ],
 "metadata": {
  "kernelspec": {
   "display_name": "Python 3",
   "language": "python",
   "name": "python3"
  },
  "language_info": {
   "codemirror_mode": {
    "name": "ipython",
    "version": 3
   },
   "file_extension": ".py",
   "mimetype": "text/x-python",
   "name": "python",
   "nbconvert_exporter": "python",
   "pygments_lexer": "ipython3",
   "version": "3.7.1"
  }
 },
 "nbformat": 4,
 "nbformat_minor": 2
}
