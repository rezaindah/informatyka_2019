{
 "cells": [
  {
   "cell_type": "code",
   "execution_count": 1,
   "metadata": {},
   "outputs": [],
   "source": [
    "import nltk\n",
    "from nltk import sent_tokenize, word_tokenize\n",
    "from nltk.stem.snowball import SnowballStemmer\n",
    "from nltk.stem.wordnet import WordNetLemmatizer\n",
    "from nltk.corpus import stopwords\n",
    "import pandas as pd\n",
    "import numpy as np\n",
    "import re   "
   ]
  },
  {
   "cell_type": "code",
   "execution_count": 2,
   "metadata": {},
   "outputs": [],
   "source": [
    "Df_pd = pd.read_csv(\"A:/PWR/project/AI/ATAI/dataset/testingc.csv\",encoding = 'utf-8', header = None)\n",
    "#Df_np = np.asarray(pd.read_csv(\"C:/Your/files/textdata.csv\", encoding ='utf-8' header = None)"
   ]
  },
  {
   "cell_type": "code",
   "execution_count": 3,
   "metadata": {},
   "outputs": [],
   "source": [
    "def tokenization_s(sentences): # same can be achieved for words tokens\n",
    "    s_new = []\n",
    "    for sent in (sentences[:][0]): #For NumpY = sentences[:]\n",
    "        s_token = sent_tokenize(sent)\n",
    "        if s_token != '':\n",
    "            s_new.append(s_token)\n",
    "    return s_new"
   ]
  },
  {
   "cell_type": "code",
   "execution_count": 4,
   "metadata": {},
   "outputs": [],
   "source": [
    "def preprocess(text):\n",
    "    clean_data = []\n",
    "    for x in (text[:][0]): #this is Df_pd for Df_np (text[:])\n",
    "        new_text = re.sub('<.*?>', '', x)   # remove HTML tags\n",
    "        new_text = re.sub(r'[^\\w\\s]', '', new_text) # remove punc.\n",
    "        new_text = re.sub(r'\\d+','',new_text)# remove numbers\n",
    "        new_text = new_text.lower() # lower case, .upper() for upper          \n",
    "        if new_text != '':\n",
    "            clean_data.append(new_text)\n",
    "    return clean_data"
   ]
  },
  {
   "cell_type": "code",
   "execution_count": 10,
   "metadata": {},
   "outputs": [],
   "source": [
    "def tokenization_w(words):\n",
    "    w_new = []\n",
    "    for w in (words[:][0]):  # for NumPy = words[:]\n",
    "        w_token = word_tokenize(w)\n",
    "        if w_token != '':\n",
    "            w_new.append(w_token)\n",
    "    return w_new"
   ]
  },
  {
   "cell_type": "code",
   "execution_count": 6,
   "metadata": {},
   "outputs": [],
   "source": [
    "snowball = SnowballStemmer(language = 'english')\n",
    "def stemming(words):\n",
    "    new = []\n",
    "    stem_words = [snowball.stem(x) for x in (words[:][0])]\n",
    "    new.append(stem_words)\n",
    "    return new"
   ]
  },
  {
   "cell_type": "code",
   "execution_count": 31,
   "metadata": {},
   "outputs": [
    {
     "name": "stdout",
     "output_type": "stream",
     "text": [
      "['Hello', 'world', '!', 'I', 'am', 'going', 'for', 'coffee', 'before', 'work', '!']\n"
     ]
    }
   ],
   "source": [
    "sentences = \" Hello world! I am going for coffee before work! \"\n",
    "words = word_tokenize(sentences)\n",
    "print(words)"
   ]
  },
  {
   "cell_type": "code",
   "execution_count": 37,
   "metadata": {},
   "outputs": [
    {
     "name": "stdout",
     "output_type": "stream",
     "text": [
      "['you like to eat apples he has eaten many apples because he likes eating']\n",
      "[['y'], ['o'], ['u'], [], ['l'], ['i'], ['k'], ['e'], [], ['t'], ['o'], [], ['e'], ['a'], ['t'], [], ['a'], ['p'], ['p'], ['l'], ['e'], ['s'], [], ['h'], ['e'], [], ['h'], ['a'], ['s'], [], ['e'], ['a'], ['t'], ['e'], ['n'], [], ['m'], ['a'], ['n'], ['y'], [], ['a'], ['p'], ['p'], ['l'], ['e'], ['s'], [], ['b'], ['e'], ['c'], ['a'], ['u'], ['s'], ['e'], [], ['h'], ['e'], [], ['l'], ['i'], ['k'], ['e'], ['s'], [], ['e'], ['a'], ['t'], ['i'], ['n'], ['g']]\n",
      "[['y', 'o', 'u', ' ', 'l', 'i', 'k', 'e', ' ', 't', 'o', ' ', 'e', 'a', 't', ' ', 'a', 'p', 'p', 'l', 'e', 's', ' ', 'h', 'e', ' ', 'h', 'a', 's', ' ', 'e', 'a', 't', 'e', 'n', ' ', 'm', 'a', 'n', 'y', ' ', 'a', 'p', 'p', 'l', 'e', 's', ' ', 'b', 'e', 'c', 'a', 'u', 's', 'e', ' ', 'h', 'e', ' ', 'l', 'i', 'k', 'e', 's', ' ', 'e', 'a', 't', 'i', 'n', 'g']]\n"
     ]
    }
   ],
   "source": [
    "test = ['You like to eat apples. He has eaten many apples because he likes eating.']\n",
    "test_pd = pd.DataFrame(test) #makes this into a panda data frame\n",
    "test_pd\n",
    "clean_test = preprocess(test_pd) #removes punctuation, see above\n",
    "print(clean_test)\n",
    "clean_words = tokenization_s(clean_test) # word tokenization\n",
    "print(clean_words)\n",
    "stem_test = stemming(clean_test) # stemming similar words\n",
    "print(stem_test)"
   ]
  },
  {
   "cell_type": "code",
   "execution_count": null,
   "metadata": {},
   "outputs": [],
   "source": []
  }
 ],
 "metadata": {
  "kernelspec": {
   "display_name": "Python 2",
   "language": "python",
   "name": "python2"
  },
  "language_info": {
   "codemirror_mode": {
    "name": "ipython",
    "version": 2
   },
   "file_extension": ".py",
   "mimetype": "text/x-python",
   "name": "python",
   "nbconvert_exporter": "python",
   "pygments_lexer": "ipython2",
   "version": "2.7.15"
  }
 },
 "nbformat": 4,
 "nbformat_minor": 2
}
